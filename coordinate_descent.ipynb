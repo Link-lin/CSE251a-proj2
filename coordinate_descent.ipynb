{
 "cells": [
  {
   "cell_type": "code",
   "execution_count": 1,
   "metadata": {},
   "outputs": [],
   "source": [
    "import numpy as np\n",
    "import math\n",
    "from sklearn.datasets import load_wine\n",
    "from sklearn.linear_model import LogisticRegression\n",
    "from sklearn.preprocessing import StandardScaler\n",
    "from sklearn.metrics import log_loss\n",
    "from sklearn.utils import shuffle\n",
    "from scipy.special import expit\n",
    "import matplotlib.pyplot as plt\n",
    "from random import randint\n"
   ]
  },
  {
   "cell_type": "code",
   "execution_count": 2,
   "metadata": {},
   "outputs": [
    {
     "name": "stdout",
     "output_type": "stream",
     "text": [
      "[[ 1.452455   -0.29441432  0.30247764 ...  2.04002469  0.782868\n",
      "   1.        ]\n",
      " [ 0.28906609 -0.21455828 -0.67719651 ...  0.94143735  0.74015178\n",
      "   1.        ]\n",
      " [ 0.24388594  0.4471061   1.11324246 ...  0.45552372  1.12459784\n",
      "   1.        ]\n",
      " ...\n",
      " [-1.30353427  0.18472195  1.484843   ... -1.0867239  -0.92293343\n",
      "   1.        ]\n",
      " [-0.64842207 -0.38567837 -0.13668663 ... -0.36841679 -1.27605426\n",
      "   1.        ]\n",
      " [-1.02115832  2.66025935  0.13356831 ... -0.81207706 -0.59829008\n",
      "   1.        ]]\n",
      "[0 0 0 0 0 0 0 0 0 0 0 0 0 0 0 0 0 0 0 0 0 0 0 0 0 0 0 0 0 0 0 0 0 0 0 0 0\n",
      " 0 0 0 0 0 0 0 0 0 0 0 0 0 0 0 0 0 0 0 0 0 0 1 1 1 1 1 1 1 1 1 1 1 1 1 1 1\n",
      " 1 1 1 1 1 1 1 1 1 1 1 1 1 1 1 1 1 1 1 1 1 1 1 1 1 1 1 1 1 1 1 1 1 1 1 1 1\n",
      " 1 1 1 1 1 1 1 1 1 1 1 1 1 1 1 1 1 1 1]\n"
     ]
    }
   ],
   "source": [
    "# Load and configure data\n",
    "wine_data = load_wine()\n",
    "# The data matrix (178,)\n",
    "data = np.asarray(wine_data.data)\n",
    "# The classification matrix (178,13)\n",
    "target = np.asarray(wine_data.target)\n",
    "\n",
    "# choose the first 130 to make it a binary problem\n",
    "# Since the original data is organized -> simply choose first 130 elem)\n",
    "X = data[0:130]\n",
    "Y = target[0:130]\n",
    "# preprocessing fix to avoid convergencewarning\n",
    "X = StandardScaler().fit_transform(X)\n",
    "# Append b to the list\n",
    "X = np.asarray(np.hstack((X, np.ones((len(X),1)))))\n",
    "# modify Y to use -1 and 1 labels\n",
    "# Y = np.where(Y == 0, -1, Y)\n",
    "print(X)\n",
    "print(Y)"
   ]
  },
  {
   "cell_type": "markdown",
   "metadata": {},
   "source": [
    "## Standard logistic regression solver"
   ]
  },
  {
   "cell_type": "code",
   "execution_count": 20,
   "metadata": {},
   "outputs": [
    {
     "name": "stdout",
     "output_type": "stream",
     "text": [
      "w: [[-5.65567085 -2.04749007 -4.36012073  5.49155832 -0.72937152  0.08800773\n",
      "  -1.54767875  0.65781456  0.64179689 -2.00784809  0.46035315 -2.46101695\n",
      "  -7.43793772  0.01431959]]\n",
      "L* =  0.00022533393014774908\n"
     ]
    }
   ],
   "source": [
    "def loss_s(X, y, w):\n",
    "    loss = 0;\n",
    "    for i in range(len(X)):\n",
    "        dot = np.dot(w, X[i]);\n",
    "        assert dot.shape[0] ==1\n",
    "        loss += np.log(1 + np.exp(-y[i]* dot))\n",
    "    return loss\n",
    "\n",
    "# Standard logistic regression https://stackoverflow.com/questions/25427650/sklearn-logisticregression-without-regularization\n",
    "# penalty = 'none' means no regularlation\n",
    "lr = LogisticRegression(random_state=1, C=math.pow(10, 5),max_iter=10000, solver='sag')\n",
    "lr.fit(X,Y)\n",
    "w = lr.coef_\n",
    "print(\"w:\", w)\n",
    "L_star = loss_s(X, Y, w)\n",
    "#print(\"L* = \", L_star)\n",
    "L_star = log_loss(Y, lr.predict_proba(X))\n",
    "print(\"L* = \", L_star)"
   ]
  },
  {
   "cell_type": "markdown",
   "metadata": {},
   "source": [
    "## Coordinate Descent "
   ]
  },
  {
   "cell_type": "code",
   "execution_count": 21,
   "metadata": {},
   "outputs": [
    {
     "name": "stdout",
     "output_type": "stream",
     "text": [
      "(14, 1) (130, 14) (130,)\n"
     ]
    },
    {
     "name": "stderr",
     "output_type": "stream",
     "text": [
      "100%|██████████| 100000/100000 [00:04<00:00, 23917.57it/s]"
     ]
    },
    {
     "name": "stdout",
     "output_type": "stream",
     "text": [
      "Accuracy for best coordinate descent 1.0\n",
      "Loss L = 0.00019283109799850333\n"
     ]
    },
    {
     "name": "stderr",
     "output_type": "stream",
     "text": [
      "\n"
     ]
    }
   ],
   "source": [
    "# helper functions\n",
    "from tqdm import tqdm\n",
    "from sklearn.metrics import accuracy_score\n",
    "def sigmoid(x):\n",
    "    return 1 / (1 + np.exp(-x))\n",
    "\n",
    "def cross_entropy_loss(y,y_pred):\n",
    "    #a = -(1/len(y))*np.sum(y*np.log(y_pred) + (1 - y)*np.log(1 - y_pred))\n",
    "    a = -(1/len(y))\n",
    "    b = y*np.log(y_pred)\n",
    "    c = (1-y)*np.log(1-y_pred)\n",
    "    d = a*np.sum(b+c)\n",
    "    return d\n",
    "\n",
    "def cross_entropy_grad(y,y_pred,x):\n",
    "    return list(np.dot((y_pred - y),X)[0])\n",
    "    \n",
    "#def loss_prime(X,Y,w):\n",
    "#    loss = 0;\n",
    "#    for i in range(len(X)):\n",
    "#        #print(\"x:\",X[i], \"\\ny:\", Y[i], \"\\nw:\",w)\n",
    "#        denominator = 1 + np.exp(Y[i] * np.dot(w, X[i].reshape(14,1)))\n",
    "#        #print(np.exp(Y[i]*np.dot(w, X[i])))\n",
    "#        loss_i = (-Y[i]*X[i])/(denominator)\n",
    "#        loss += loss_i\n",
    "#    return loss;\n",
    "\n",
    "# initial weights\n",
    "w = np.zeros(14).reshape(14,1)\n",
    "w_rand = w\n",
    "\n",
    "print(w.shape, X.shape, Y.shape)\n",
    "\n",
    "eta = 0.01\n",
    "loss = []\n",
    "loss_rand = []\n",
    "num_iter = 100000 # just take a bunch of iterations\n",
    "for t in tqdm(range(num_iter)):\n",
    "    \n",
    "    # predict step \n",
    "    y_pred = sigmoid(np.dot(w.T,X.T))\n",
    "    grad = cross_entropy_grad(Y,y_pred,X)\n",
    "    \n",
    "    largest = np.argmax(np.abs(grad)) # idx with largest magnitude\n",
    "    loss.append(cross_entropy_loss(Y,y_pred))  \n",
    "    \n",
    "    # update that coordinate with largest gradient in magnitude\n",
    "    w[largest] = w[largest] - eta*grad[largest]\n",
    "\n",
    "y_pred = sigmoid(np.dot(w.T,X.T))\n",
    "y_pred = np.array(list(map(lambda x: 1 if x >= 0.5 else 0, y_pred.flatten()))) # post processing\n",
    "\n",
    "print(\"Accuracy for best coordinate descent {0}\".format(accuracy_score(Y, y_pred)))\n",
    "print(\"Loss L = {0}\".format(loss[-1]))"
   ]
  },
  {
   "cell_type": "code",
   "execution_count": 22,
   "metadata": {},
   "outputs": [
    {
     "name": "stderr",
     "output_type": "stream",
     "text": [
      "100%|██████████| 100000/100000 [00:03<00:00, 26902.95it/s]"
     ]
    },
    {
     "name": "stdout",
     "output_type": "stream",
     "text": [
      "Accuracy for random coordinate descent 1.0\n",
      "Loss L = 0.00042463922828810645\n"
     ]
    },
    {
     "name": "stderr",
     "output_type": "stream",
     "text": [
      "\n"
     ]
    }
   ],
   "source": [
    "#Random Index\n",
    "# initial weights\n",
    "w = np.zeros(14).reshape(14,1)\n",
    "w_rand = w\n",
    "\n",
    "eta = 0.01\n",
    "loss_rand = []\n",
    "num_iter = 100000\n",
    "for t in tqdm(range(num_iter)):\n",
    "    \n",
    "    # predict step\n",
    "    y_pred = sigmoid(np.dot(w.T,X.T))\n",
    "    loss_rand.append(cross_entropy_loss(Y,y_pred))  \n",
    "    grad = cross_entropy_grad(Y,y_pred,X)\n",
    "    random = randint(0,13)\n",
    "    \n",
    "    # update random coordinate\n",
    "    w_rand[random] = w_rand[random] - eta*grad[random]\n",
    "    \n",
    "y_pred = sigmoid(np.dot(w_rand.T,X.T))\n",
    "y_pred = np.array(list(map(lambda x: 1 if x >= 0.5 else 0, y_pred.flatten())))\n",
    "\n",
    "print(\"Accuracy for random coordinate descent {0}\".format(accuracy_score(Y, y_pred)))\n",
    "print(\"Loss L = {0}\".format(loss_rand[-1]))"
   ]
  },
  {
   "cell_type": "code",
   "execution_count": 26,
   "metadata": {},
   "outputs": [
    {
     "data": {
      "text/plain": [
       "<matplotlib.legend.Legend at 0x148b56a00>"
      ]
     },
     "execution_count": 26,
     "metadata": {},
     "output_type": "execute_result"
    },
    {
     "data": {
      "image/png": "[encoded data removed]",
      "text/plain": [
       "<Figure size 720x720 with 1 Axes>"
      ]
     },
     "metadata": {
      "needs_background": "light"
     },
     "output_type": "display_data"
    }
   ],
   "source": [
    "#Plot\n",
    "plt.figure(figsize=(10,10))\n",
    "plt.plot(loss, 'g-', label='Best Coordinate Descent') # loss best coordinate descent\n",
    "plt.plot(loss_rand, 'r-', label='Random Feature Coordinate Descent')\n",
    "plt.axhline(y=L_star, color='y', label='L*')\n",
    "plt.title('iteration vs loss', fontsize=25)\n",
    "plt.xlabel('iteration', fontsize=15)\n",
    "plt.xlim(0,100000)\n",
    "plt.ylim((-0.01,0.04))\n",
    "plt.ylabel('loss', fontsize=15)\n",
    "plt.xticks(fontsize=15)\n",
    "plt.yticks(fontsize=15)\n",
    "plt.grid()\n",
    "plt.legend()"
   ]
  }
 ],
 "metadata": {
  "interpreter": {
   "hash": "aee8b7b246df8f9039afb4144a1f6fd8d2ca17a180786b69acc140d282b71a49"
  },
  "kernelspec": {
   "display_name": "Python 3.9.5 64-bit",
   "language": "python",
   "name": "python3"
  },
  "language_info": {
   "codemirror_mode": {
    "name": "ipython",
    "version": 3
   },
   "file_extension": ".py",
   "mimetype": "text/x-python",
   "name": "python",
   "nbconvert_exporter": "python",
   "pygments_lexer": "ipython3",
   "version": "3.9.5"
  },
  "orig_nbformat": 4
 },
 "nbformat": 4,
 "nbformat_minor": 2
}
