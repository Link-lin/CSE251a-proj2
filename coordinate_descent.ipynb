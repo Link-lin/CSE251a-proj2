{
 "cells": [
  {
   "cell_type": "code",
   "execution_count": 1,
   "metadata": {},
   "outputs": [],
   "source": [
    "import numpy as np\n",
    "import math\n",
    "from sklearn.datasets import load_wine\n",
    "from sklearn.linear_model import LogisticRegression\n",
    "from sklearn.preprocessing import StandardScaler\n",
    "from sklearn.metrics import log_loss\n",
    "from scipy.special import expit\n",
    "import matplotlib.pyplot as plt\n",
    "from random import randint\n"
   ]
  },
  {
   "cell_type": "code",
   "execution_count": 192,
   "metadata": {},
   "outputs": [],
   "source": [
    "# Load and configure data\n",
    "wine_data = load_wine()\n",
    "# The data matrix (178,)\n",
    "data = np.asarray(wine_data.data)\n",
    "# The classification matrix (178,13)\n",
    "target = np.asarray(wine_data.target)\n",
    "# choose the first 130 to make it a binary problem\n",
    "# Since the original data is organized -> simply choose first 130 elem)\n",
    "X = data[0:130]\n",
    "Y = target[0:130]\n",
    "# preprocessing fix to avoid convergencewarning\n",
    "X = StandardScaler().fit_transform(X)\n",
    "# Append b to the list\n",
    "X = np.asarray(np.hstack((X, np.ones((len(X),1)))))\n",
    "# modify Y to use -1 and 1 labels\n",
    "y = np.where(Y == 0, -1, Y)"
   ]
  },
  {
   "cell_type": "markdown",
   "metadata": {},
   "source": [
    "## Standard logistic regression solver"
   ]
  },
  {
   "cell_type": "code",
   "execution_count": 129,
   "metadata": {},
   "outputs": [
    {
     "name": "stdout",
     "output_type": "stream",
     "text": [
      "w: [[-5.65567085 -2.04749007 -4.36012073  5.49155832 -0.72937152  0.08800773\n",
      "  -1.54767875  0.65781456  0.64179689 -2.00784809  0.46035315 -2.46101695\n",
      "  -7.43793772  0.01431959]]\n",
      "L* =  0.00022533393014774908\n"
     ]
    }
   ],
   "source": [
    "# Standard logistic regression https://stackoverflow.com/questions/25427650/sklearn-logisticregression-without-regularization\n",
    "# penalty = 'none' means no regularlation\n",
    "lr = LogisticRegression(random_state=1, C=math.pow(10, 5),max_iter=10000, solver='sag')\n",
    "lr.fit(X,Y)\n",
    "w = lr.coef_ \n",
    "print(\"w:\", w)\n",
    "# L_star = loss_s(X, Y, w)\n",
    "#print(\"L* = \", L_star)\n",
    "L_star = log_loss(Y, lr.predict_proba(X))\n",
    "print(\"L* = \", L_star)"
   ]
  },
  {
   "cell_type": "markdown",
   "metadata": {},
   "source": [
    "## Coordinate Descent "
   ]
  },
  {
   "cell_type": "code",
   "execution_count": 151,
   "metadata": {},
   "outputs": [],
   "source": [
    "# helper functions\n",
    "from sklearn.metrics import accuracy_score\n",
    "\n",
    "def sigmoid(x):\n",
    "    return 1 / (1 + np.exp(-x))\n",
    "\n",
    "# cross entropy loss\n",
    "def ce_loss(y,y_pred):\n",
    "    #a = -(1/len(y))*np.sum(y*np.log(y_pred) + (1 - y)*np.log(1 - y_pred))\n",
    "    a = -(1/len(y))\n",
    "    b = y*np.log(y_pred)\n",
    "    c = (1-y)*np.log(1-y_pred)\n",
    "    d = a*np.sum(b+c)\n",
    "    return d\n",
    "\n",
    "# corss entropy gradient\n",
    "def ce_grad(y,y_pred, X):\n",
    "    return list(np.dot((y_pred - y),X)[0])\n",
    "\n",
    "# logistice regression loss\n",
    "def loss_s(X, y, w):\n",
    "    loss = 0;\n",
    "    for i in range(len(X)):\n",
    "        dot = np.dot(w.T, X[i]);\n",
    "        assert dot.shape[0] ==1\n",
    "        loss += np.log(1 + np.exp(-y[i]* dot))\n",
    "    return loss\n",
    "    \n",
    "# logistice regression gradient\n",
    "def loss_prime(X,y,w):\n",
    "    grad = 0;\n",
    "    for i in range(len(X)):\n",
    "        #print(\"x:\",X[i], \"\\ny:\", Y[i], \"\\nw:\",w)\n",
    "        denominator = 1 + np.exp(y[i] * np.dot(w.T, X[i].reshape(14,1)))\n",
    "        #print(np.exp(Y[i]*np.dot(w, X[i])))\n",
    "        loss_i = (-y[i]*X[i])/(denominator)\n",
    "        grad += loss_i\n",
    "    return grad[0];"
   ]
  },
  {
   "cell_type": "code",
   "execution_count": 195,
   "metadata": {},
   "outputs": [],
   "source": [
    "eta = 0.01\n",
    "def coordinate_descent(isRandom):\n",
    "    w = np.zeros(14).reshape(14,1)\n",
    "    w += np.random.normal(0, 0.01, (14,1))\n",
    "    loss = []\n",
    "    # a value between 0 and 1\n",
    "    for i in range(100000):\n",
    "        prediction = sigmoid(np.dot(w.T,X.T))\n",
    "        gradient = ce_grad(Y,prediction,X)\n",
    "    \n",
    "        index = randint(0,13) if isRandom else np.argmax(np.abs(gradient)) # idx with largest magnitude       \n",
    "        # update that coordinate with largest gradient in magnitude\n",
    "        gradient_j = np.asarray([gradient[index] if j == index else 0 for j in range(0,14)])\n",
    "        w_new = w - eta * gradient_j.reshape(14,1)\n",
    "        # calculate loss and assing w_new\n",
    "        curr_loss = ce_loss(Y,prediction)\n",
    "        # prev_loss = loss_s(X, Y, w)\n",
    "        # print(curr_loss, prev_loss)\n",
    "        loss.append(curr_loss)\n",
    "        w = w_new       \n",
    "    return (loss, w)\n",
    "\n",
    "def coordinate_descent_log(isRandom):\n",
    "    w = np.zeros(14).reshape(14,1)\n",
    "    w += np.random.normal(0, 0.01, (14,1))\n",
    "    loss = []\n",
    "    # a value between 0 and 1\n",
    "    for i in range(100000):\n",
    "         # predict step \n",
    "        gradient = loss_prime(X,y,w)\n",
    "    \n",
    "        index = randint(0,13) if isRandom else np.argmax(np.abs(gradient)) # idx with largest magnitude       \n",
    "        # update that coordinate with largest gradient in magnitude\n",
    "        gradient_j = np.asarray([gradient[index] if j == index else 0 for j in range(0,14)])\n",
    "        w_new = w - eta * gradient_j.reshape(14,1)\n",
    "        # calculate loss and assing w_new\n",
    "        curr_loss = loss_s(X,y,w_new)\n",
    "        # prev_loss = loss_s(X, Y, w)\n",
    "        # print(curr_loss, prev_loss)\n",
    "        loss.append(curr_loss)\n",
    "        w = w_new       \n",
    "    return (loss, w)"
   ]
  },
  {
   "cell_type": "code",
   "execution_count": 198,
   "metadata": {},
   "outputs": [
    {
     "name": "stdout",
     "output_type": "stream",
     "text": [
      "Accuracy for coordinate descent:  1.0\n",
      "Loss L = 0.00019295972586456779\n",
      "Accuracy for coordinate descent:  1.0\n",
      "Loss L = 0.00042425289652215736\n"
     ]
    }
   ],
   "source": [
    "def print_result(loss, w):\n",
    "    predict = sigmoid(np.dot(w.T, X.T))\n",
    "    predict = np.where(predict>=0.5, 1, 0).flatten()\n",
    "    # print(predict)\n",
    "    # print(Y)\n",
    "    print(\"Accuracy for coordinate descent: \",accuracy_score(Y, predict))\n",
    "    print(\"Loss L = {0}\".format(loss[-1]))\n",
    "    #print(loss_custom, w_custom)\n",
    "\n",
    "loss_custom, w_custom = coordinate_descent(False)\n",
    "loss_rand, w_rand = coordinate_descent(True)\n",
    "print_result(loss_custom, w_custom)\n",
    "print_result(loss_rand, w_rand)"
   ]
  },
  {
   "cell_type": "code",
   "execution_count": 199,
   "metadata": {},
   "outputs": [
    {
     "name": "stdout",
     "output_type": "stream",
     "text": [
      "[-1 -1 -1 -1 -1 -1 -1 -1 -1 -1 -1 -1 -1 -1 -1 -1 -1 -1 -1 -1 -1 -1 -1 -1\n",
      " -1 -1 -1 -1 -1 -1 -1 -1 -1 -1 -1 -1 -1 -1 -1 -1 -1 -1 -1 -1 -1 -1 -1 -1\n",
      " -1 -1 -1 -1 -1 -1 -1 -1 -1 -1 -1  1  1  1  1  1  1  1  1  1  1  1  1  1\n",
      "  1  1  1  1  1  1  1  1  1  1  1  1  1  1  1  1  1  1  1  1  1  1  1  1\n",
      "  1  1  1  1  1  1  1  1  1  1  1  1  1  1  1  1  1  1  1  1  1  1  1  1\n",
      "  1  1  1  1  1  1  1  1  1  1]\n",
      "[0 0 0 0 0 0 0 0 0 0 0 0 0 0 0 0 0 0 0 0 0 0 0 0 0 0 0 0 0 0 0 0 0 0 0 0 0\n",
      " 0 0 0 0 0 0 0 0 0 0 0 0 0 0 0 0 0 0 0 0 0 0 1 1 1 1 1 1 1 1 1 1 1 1 1 1 1\n",
      " 1 1 1 1 1 1 1 1 1 1 1 1 1 1 1 1 1 1 1 1 1 1 1 1 1 1 1 1 1 1 1 1 1 1 1 1 1\n",
      " 1 1 1 1 1 1 1 1 1 1 1 1 1 1 1 1 1 1 1]\n",
      "Accuracy for coordinate descent:  1.0\n",
      "Loss L = [0.02504293]\n",
      "[-1 -1 -1 -1 -1 -1 -1 -1 -1 -1 -1 -1 -1 -1 -1 -1 -1 -1 -1 -1 -1 -1 -1 -1\n",
      " -1 -1 -1 -1 -1 -1 -1 -1 -1 -1 -1 -1 -1 -1 -1 -1 -1 -1 -1 -1 -1 -1 -1 -1\n",
      " -1 -1 -1 -1 -1 -1 -1 -1 -1 -1 -1  1  1  1  1  1  1  1  1  1  1  1  1  1\n",
      "  1  1  1  1  1  1  1  1  1  1  1  1  1  1  1  1  1  1  1  1  1  1  1  1\n",
      "  1  1  1  1  1  1  1  1  1  1  1  1  1  1  1  1  1  1  1  1  1  1  1  1\n",
      "  1  1  1  1  1  1  1  1  1  1]\n",
      "[0 0 0 0 0 0 0 0 0 0 0 0 0 0 0 0 0 0 0 0 0 0 0 0 0 0 0 0 0 0 0 0 0 0 0 0 0\n",
      " 0 0 0 0 0 0 0 0 0 0 0 0 0 0 0 0 0 0 0 0 0 0 1 1 1 1 1 1 1 1 1 1 1 1 1 1 1\n",
      " 1 1 1 1 1 1 1 1 1 1 1 1 1 1 1 1 1 1 1 1 1 1 1 1 1 1 1 1 1 1 1 1 1 1 1 1 1\n",
      " 1 1 1 1 1 1 1 1 1 1 1 1 1 1 1 1 1 1 1]\n",
      "Accuracy for coordinate descent:  1.0\n",
      "Loss L = [0.05532946]\n"
     ]
    }
   ],
   "source": [
    "def print_result_log(loss, w):\n",
    "    predict = sigmoid(np.dot(w.T, X.T))\n",
    "    predict = np.where(predict>=0.5, 1, -1).flatten()\n",
    "    print(predict)\n",
    "    print(Y)\n",
    "    \n",
    "    print(\"Accuracy for coordinate descent: \",accuracy_score(y, predict))\n",
    "    print(\"Loss L = {0}\".format(loss[-1]))\n",
    "\n",
    "loss_log, w_log = coordinate_descent_log(False)\n",
    "loss_log_rand, w_log_rand = coordinate_descent_log(True)\n",
    "print_result_log(loss_log, w_log)\n",
    "print_result_log(loss_log_rand, w_log_rand)"
   ]
  },
  {
   "cell_type": "code",
   "execution_count": 187,
   "metadata": {},
   "outputs": [
    {
     "data": {
      "image/png": "[encoded data removed]",
      "text/plain": [
       "<Figure size 720x720 with 1 Axes>"
      ]
     },
     "metadata": {
      "needs_background": "light"
     },
     "output_type": "display_data"
    }
   ],
   "source": [
    "#Plot\n",
    "plt.figure(figsize=(10,10))\n",
    "plt.plot(loss_custom, 'b', label='Best Coordinate Descent') # loss best coordinate descent\n",
    "plt.plot(loss_rand, 'r', label='Random Coordinate Descent')\n",
    "plt.axhline(y=L_star, color='y', label='L*')\n",
    "plt.title('Traing Curve')\n",
    "plt.xlabel('iteration')\n",
    "plt.ylabel('L(w)')\n",
    "plt.xlim(0,40000)\n",
    "plt.ylim((0,0.04))\n",
    "plt.grid()\n",
    "plt.show()"
   ]
  },
  {
   "cell_type": "code",
   "execution_count": 203,
   "metadata": {},
   "outputs": [
    {
     "data": {
      "image/png": "[encoded data removed]",
      "text/plain": [
       "<Figure size 720x720 with 1 Axes>"
      ]
     },
     "metadata": {
      "needs_background": "light"
     },
     "output_type": "display_data"
    }
   ],
   "source": [
    "#Plot\n",
    "plt.figure(figsize=(10,10))\n",
    "plt.plot(loss_log, 'b', label='Best Coordinate Descent') # loss best coordinate descent\n",
    "plt.plot(loss_log_rand, 'r', label='Random Coordinate Descent')\n",
    "plt.axhline(y=L_star, color='y', label='L*')\n",
    "plt.title('Traing Curve')\n",
    "plt.xlabel('iteration')\n",
    "plt.ylabel('L(w)')\n",
    "plt.xlim(0,100000)\n",
    "plt.ylim((0,1))\n",
    "plt.grid()\n",
    "plt.show()"
   ]
  }
 ],
 "metadata": {
  "interpreter": {
   "hash": "aee8b7b246df8f9039afb4144a1f6fd8d2ca17a180786b69acc140d282b71a49"
  },
  "kernelspec": {
   "display_name": "Python 3.9.5 64-bit",
   "language": "python",
   "name": "python3"
  },
  "language_info": {
   "codemirror_mode": {
    "name": "ipython",
    "version": 3
   },
   "file_extension": ".py",
   "mimetype": "text/x-python",
   "name": "python",
   "nbconvert_exporter": "python",
   "pygments_lexer": "ipython3",
   "version": "3.9.5"
  },
  "orig_nbformat": 4
 },
 "nbformat": 4,
 "nbformat_minor": 2
}
